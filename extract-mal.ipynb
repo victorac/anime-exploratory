{
 "cells": [
  {
   "cell_type": "code",
   "execution_count": 125,
   "metadata": {
    "collapsed": true
   },
   "outputs": [],
   "source": [
    "import requests\n",
    "import html\n",
    "from bs4 import BeautifulSoup\n",
    "from IPython.display import display\n",
    "import re\n",
    "import pandas as pd"
   ]
  },
  {
   "cell_type": "code",
   "execution_count": 162,
   "metadata": {},
   "outputs": [],
   "source": [
    "def cleanse_data(tag):\n",
    "    text=tag.get_text()\n",
    "    pos,title,tv,date,members,rating,na,na = re.findall(r\"\\s*(.+)\",text)\n",
    "    match = re.search(r'(.+)Watch ((Episode)|(Promotional)) Video',title)\n",
    "    if match:\n",
    "        title = match.group(1)\n",
    "    a=tag.find(\"a\")\n",
    "    return (int(pos), title, date.split('-')[0][:-1], date.split('-')[1][1:], float(rating), a.get('href'))\n",
    "\n",
    "top_animes_url = 'https://myanimelist.net/topanime.php'\n",
    "top_animes_soup = BeautifulSoup(requests.get(top_animes_url).text, 'html.parser')\n",
    "next_limit = top_animes_soup.find(\"a\", class_='next')\n",
    "if next_limit:\n",
    "    next_limit = next_limit.get('href')\n",
    "\n",
    "tags = top_animes_soup.find_all(\"tr\", class_='ranking-list')\n",
    "\n",
    "entries = {'pos':[], 'title':[], 'start_date':[], 'end_date':[], 'rating':[], 'url': []}\n",
    "for block in map(cleanse_data,tags):\n",
    "    entries['pos'].append(block[0])\n",
    "    entries['title'].append(block[1])\n",
    "    entries['start_date'].append(block[2])\n",
    "    entries['end_date'].append(block[3])\n",
    "    entries['rating'].append(block[4])\n",
    "    entries['url'].append(block[5])\n",
    "while next_limit:\n",
    "# for i in range(3):\n",
    "    top_animes_soup = BeautifulSoup(requests.get(top_animes_url + next_limit ).text, 'html.parser')\n",
    "    tags = top_animes_soup.find_all(\"tr\", class_='ranking-list')\n",
    "    for block in map(cleanse_data,tags):\n",
    "        entries['pos'].append(block[0])\n",
    "        entries['title'].append(block[1])\n",
    "        entries['start_date'].append(block[2])\n",
    "        entries['end_date'].append(block[3])\n",
    "        entries['rating'].append(block[4])\n",
    "        entries['url'].append(block[5])\n",
    "    next_limit = top_animes_soup.find(\"a\", class_='next')\n",
    "    if next_limit:\n",
    "        next_limit=next_limit.get('href')\n",
    "\n",
    "anime_db = pd.DataFrame.from_dict(entries)"
   ]
  },
  {
   "cell_type": "code",
   "execution_count": 163,
   "metadata": {},
   "outputs": [
    {
     "data": {
      "text/plain": [
       "(2150, 6)"
      ]
     },
     "execution_count": 163,
     "metadata": {},
     "output_type": "execute_result"
    }
   ],
   "source": [
    "anime_db.shape"
   ]
  },
  {
   "cell_type": "code",
   "execution_count": 164,
   "metadata": {},
   "outputs": [
    {
     "name": "stdout",
     "output_type": "stream",
     "text": [
      "<class 'pandas.core.frame.DataFrame'>\n",
      "RangeIndex: 2150 entries, 0 to 2149\n",
      "Data columns (total 6 columns):\n",
      "end_date      2150 non-null object\n",
      "pos           2150 non-null int64\n",
      "rating        2150 non-null float64\n",
      "start_date    2150 non-null object\n",
      "title         2150 non-null object\n",
      "url           2150 non-null object\n",
      "dtypes: float64(1), int64(1), object(4)\n",
      "memory usage: 100.9+ KB\n"
     ]
    }
   ],
   "source": [
    "anime_db.info()"
   ]
  },
  {
   "cell_type": "code",
   "execution_count": 139,
   "metadata": {
    "collapsed": true
   },
   "outputs": [],
   "source": [
    "anime_db.to_csv('anime_ranking')"
   ]
  },
  {
   "cell_type": "code",
   "execution_count": 140,
   "metadata": {
    "collapsed": true
   },
   "outputs": [
    {
     "name": "stdout",
     "output_type": "stream",
     "text": [
      "\"In order for something to be obtained, something of equal value must be lost.\"<br />\n",
      "<br />\n",
      "Alchemy is bound by this Law of Equivalent Exchange—something the young brothers Edward and Alphonse Elric only realize after attempting human transmutation: the one forbidden act of alchemy. They pay a terrible price for their transgression—Edward loses his left leg, Alphonse his physical body. It is only by the desperate sacrifice of Edward's right arm that he is able to affix Alphonse's soul to a suit of armor. Devastated and alone, it is the hope that they would both eventually return to their original bodies that gives Edward the inspiration to obtain metal limbs called \"automail\" and become a state alchemist, the Fullmetal Alchemist.<br />\n",
      "<br />\n",
      "Three years of searching later, the brothers seek the Philosopher's Stone, a mythical relic that allows an alchemist to overcome the Law of Equivalent Exchange. Even with military allies Colonel Roy Mustang, Lieutenant Riza Hawkeye, and Lieutenant Colonel Maes Hughes on their side, the brothers find themselves caught up in a nationwide conspiracy that leads them not only to the true nature of the elusive Philosopher's Stone, but their country's murky history as well. In between finding a serial killer and racing against time, Edward and Alphonse must ask themselves if what they are doing will make them human again... or take away their humanity.<br />\n",
      "<br />\n",
      "[Written by MAL Rewrite]\n",
      "Mitsuha Miyamizu, a high school girl, yearns to live the life of a boy in the bustling city of Tokyo—a dream that stands in stark contrast to her present life in the countryside. Meanwhile in the city, Taki Tachibana lives a busy life as a high school student while juggling his part-time job and hopes for a future in architecture.<br />\n",
      "<br />\n",
      "One day, Mitsuha awakens in a room that is not her own and suddenly finds herself living the dream life in Tokyo—but in Taki's body! Elsewhere, Taki finds himself living Mitsuha's life in the humble countryside. In pursuit of an answer to this strange phenomenon, they begin to search for one another.<br />\n",
      "<br />\n",
      "[i]Kimi no Na wa.[/i] revolves around Mitsuha and Taki's actions, which begin to have a dramatic impact on each other's lives, weaving them into a fabric held together by fate and circumstance.<br />\n",
      "<br />\n",
      "[Written by MAL Rewrite]\n",
      "Gintoki, Shinpachi, and Kagura return as the fun-loving but broke members of the Yorozuya team! Living in an alternate-reality Edo, where swords are prohibited and alien overlords have conquered Japan, they try to thrive on doing whatever work they can get their hands on. However, Shinpachi and Kagura still haven't been paid... Does Gin-chan really spend all that cash playing pachinko?<br />\n",
      "<br />\n",
      "Meanwhile, when Gintoki drunkenly staggers home one night, an alien spaceship crashes nearby. A fatally injured crew member emerges from the ship and gives Gintoki a strange, clock-shaped device, warning him that it is incredibly powerful and must be safeguarded. Mistaking it for his alarm clock, Gintoki proceeds to smash the device the next morning and suddenly discovers that the world outside his apartment has come to a standstill. With Kagura and Shinpachi at his side, he sets off to get the device fixed; though, as usual, nothing is ever that simple for the Yorozuya team.<br />\n",
      "<br />\n",
      "Filled with tongue-in-cheek humor and moments of heartfelt emotion, [i]Gintama[/i]'s third season finds Gintoki and his friends facing both their most hilarious misadventures and most dangerous crises yet.<br />\n",
      "<br />\n",
      "[Written by MAL Rewrite]\n"
     ]
    }
   ],
   "source": [
    "url = 'https://myanimelist.net/api/anime/search.xml?q='\n",
    "user='****'\n",
    "password='****'\n",
    "\n",
    "for query in anime_db.title[:3]:\n",
    "    response = requests.get(url+query, auth=requests.auth.HTTPBasicAuth(user, password))\n",
    "    soup = BeautifulSoup(response.text, 'html.parser')\n",
    "    print(html.unescape(soup.synopsis.get_text()))"
   ]
  },
  {
   "cell_type": "code",
   "execution_count": null,
   "metadata": {},
   "outputs": [
    {
     "name": "stdout",
     "output_type": "stream",
     "text": [
      "..................................................."
     ]
    }
   ],
   "source": [
    "import sys\n",
    "import time\n",
    "\n",
    "def look_href(tag):\n",
    "    return (tag.find_parent(\"td\") and \n",
    "        tag.name == 'a' and\n",
    "        tag.has_attr('href') and\n",
    "        re.search(r'https://myanimelist.net/character/',tag.get('href')) and\n",
    "        not tag.has_attr('class'))\n",
    "\n",
    "\n",
    "character_entries = {'anime':[], 'char_name':[], 'char_url':[]} \n",
    "char_db = pd.DataFrame(columns=['anime','char_name','char_url'])\n",
    "size = anime_db.shape[0]\n",
    "percent_5 = size//5\n",
    "count = 1\n",
    "percents = 1\n",
    "t0 = time.time()\n",
    "for anime_link, title in anime_db[['url','title']].itertuples(index=False):\n",
    "    if count % percent_5 == 0:\n",
    "        sys.stdout.write(str(percents*5)+'%')\n",
    "        sys.stdout.write(' -- '+str(time.time()-t0))\n",
    "        t0 = time.time()\n",
    "        percents=percents+1\n",
    "    count = count + 1\n",
    "    sys.stdout.write('.')\n",
    "    anime_soup = BeautifulSoup(requests.get(anime_link).text, 'html.parser')\n",
    "    characters_link = top_animes_soup.find(\"a\",string=\"Characters & Staff\").get('href')\n",
    "    character_soup = BeautifulSoup(requests.get(characters_link).text, 'html.parser')\n",
    "    tags = character_soup.find_all(look_href)\n",
    "    char_db = char_db.append(pd.DataFrame.from_dict({'char_name': list(map(lambda x: x.get_text(), tags)),\n",
    "                    'char_url': list(map(lambda x: x.get('href'), tags)),\n",
    "                   'anime':[title for _ in range(len(tags))]}), ignore_index=True)\n"
   ]
  },
  {
   "cell_type": "code",
   "execution_count": null,
   "metadata": {
    "collapsed": true
   },
   "outputs": [],
   "source": []
  }
 ],
 "metadata": {
  "kernelspec": {
   "display_name": "Python 3",
   "language": "python",
   "name": "python3"
  },
  "language_info": {
   "codemirror_mode": {
    "name": "ipython",
    "version": 3
   },
   "file_extension": ".py",
   "mimetype": "text/x-python",
   "name": "python",
   "nbconvert_exporter": "python",
   "pygments_lexer": "ipython3",
   "version": "3.6.1"
  }
 },
 "nbformat": 4,
 "nbformat_minor": 2
}
