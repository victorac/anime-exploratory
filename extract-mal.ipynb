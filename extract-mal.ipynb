{
 "cells": [
  {
   "cell_type": "code",
   "execution_count": 1,
   "metadata": {
    "collapsed": true
   },
   "outputs": [],
   "source": [
    "import requests\n",
    "import html\n",
    "from bs4 import BeautifulSoup\n",
    "from IPython.display import display"
   ]
  },
  {
   "cell_type": "code",
   "execution_count": 34,
   "metadata": {},
   "outputs": [
    {
     "name": "stdout",
     "output_type": "stream",
     "text": [
      "Ichigo Kurosaki is an ordinary high schooler—until his family is attacked by a Hollow, a corrupt spirit that seeks to devour human souls. It is then that he meets a Soul Reaper named Rukia Kuchiki, who gets injured while protecting Ichigo's family from the assailant. To save his family, Ichigo accepts Rukia's offer of taking her powers and becomes a Soul Reaper as a result.<br />\r\n",
      "<br />\r\n",
      "However, as Rukia is unable to regain her powers, Ichigo is given the daunting task of hunting down the Hollows that plague their town. However, he is not alone in his fight, as he is later joined by his friends—classmates Orihime Inoue, Yasutora Sado, and Uryuu Ishida—who each have their own unique abilities. As Ichigo and his comrades get used to their new duties and support each other on and off the battlefield, the young Soul Reaper soon learns that the Hollows are not the only real threat to the human world.<br />\r\n",
      "<br />\r\n",
      "[Written by MAL Rewrite]\n"
     ]
    }
   ],
   "source": [
    "url = 'https://myanimelist.net/api/anime/search.xml?q='\n",
    "query = 'bleach'\n",
    "user='*******'\n",
    "password='******'\n",
    "response = requests.get(url+query, auth=requests.auth.HTTPBasicAuth(user, password))\n",
    "soup = BeautifulSoup(response.text, 'html.parser')\n",
    "\n",
    "print(html.unescape(soup.synopsis.get_text()))"
   ]
  },
  {
   "cell_type": "code",
   "execution_count": 125,
   "metadata": {
    "collapsed": true
   },
   "outputs": [],
   "source": [
    "import requests\n",
    "import html\n",
    "from bs4 import BeautifulSoup\n",
    "from IPython.display import display\n",
    "import re\n",
    "import pandas as pd"
   ]
  },
  {
   "cell_type": "code",
   "execution_count": 136,
   "metadata": {},
   "outputs": [],
   "source": [
    "def cleanse_data(tag):\n",
    "    text=tag.get_text()\n",
    "    pos,title,tv,date,members,rating,na,na = re.findall(r\"\\s*(.+)\",text)\n",
    "    match = re.search(r'(.+)Watch ((Episode)|(Promotional)) Video',title)\n",
    "    if match:\n",
    "        title = match.group(1)\n",
    "    return (int(pos), title, date.split('-')[0][:-1], date.split('-')[1][1:], float(rating))\n",
    "\n",
    "top_animes_url = 'https://myanimelist.net/topanime.php'\n",
    "top_animes_soup = BeautifulSoup(requests.get(top_animes_url).text, 'html.parser')\n",
    "next_limit = top_animes_soup.find(\"a\", class_='next')\n",
    "if next_limit:\n",
    "    next_limit = next_limit.get('href')\n",
    "\n",
    "tags = top_animes_soup.find_all(\"tr\", class_='ranking-list')\n",
    "\n",
    "entries = {'pos':[], 'title':[], 'start_date':[], 'end_date':[], 'rating':[]}\n",
    "for block in map(cleanse_data,tags):\n",
    "    entries['pos'].append(block[0])\n",
    "    entries['title'].append(block[1])\n",
    "    entries['start_date'].append(block[2])\n",
    "    entries['end_date'].append(block[3])\n",
    "    entries['rating'].append(block[4])\n",
    "    \n",
    "while next_limit:\n",
    "# for i in range(3):\n",
    "    top_animes_soup = BeautifulSoup(requests.get(top_animes_url + next_limit ).text, 'html.parser')\n",
    "    tags = top_animes_soup.find_all(\"tr\", class_='ranking-list')\n",
    "    for block in map(cleanse_data,tags):\n",
    "        entries['pos'].append(block[0])\n",
    "        entries['title'].append(block[1])\n",
    "        entries['start_date'].append(block[2])\n",
    "        entries['end_date'].append(block[3])\n",
    "        entries['rating'].append(block[4])\n",
    "    next_limit = top_animes_soup.find(\"a\", class_='next')\n",
    "    if next_limit:\n",
    "        next_limit=next_limit.get('href')\n",
    "\n",
    "anime_db = pd.DataFrame.from_dict(entries)"
   ]
  },
  {
   "cell_type": "code",
   "execution_count": 137,
   "metadata": {},
   "outputs": [
    {
     "data": {
      "text/plain": [
       "(2250, 5)"
      ]
     },
     "execution_count": 137,
     "metadata": {},
     "output_type": "execute_result"
    }
   ],
   "source": [
    "anime_db.shape"
   ]
  },
  {
   "cell_type": "code",
   "execution_count": 138,
   "metadata": {},
   "outputs": [
    {
     "name": "stdout",
     "output_type": "stream",
     "text": [
      "<class 'pandas.core.frame.DataFrame'>\n",
      "RangeIndex: 2250 entries, 0 to 2249\n",
      "Data columns (total 5 columns):\n",
      "end_date      2250 non-null object\n",
      "pos           2250 non-null int64\n",
      "rating        2250 non-null float64\n",
      "start_date    2250 non-null object\n",
      "title         2250 non-null object\n",
      "dtypes: float64(1), int64(1), object(3)\n",
      "memory usage: 88.0+ KB\n"
     ]
    }
   ],
   "source": [
    "anime_db.info()"
   ]
  },
  {
   "cell_type": "code",
   "execution_count": 139,
   "metadata": {
    "collapsed": true
   },
   "outputs": [],
   "source": [
    "anime_db.to_csv('anime_ranking')"
   ]
  }
 ],
 "metadata": {
  "kernelspec": {
   "display_name": "Python 3",
   "language": "python",
   "name": "python3"
  },
  "language_info": {
   "codemirror_mode": {
    "name": "ipython",
    "version": 3
   },
   "file_extension": ".py",
   "mimetype": "text/x-python",
   "name": "python",
   "nbconvert_exporter": "python",
   "pygments_lexer": "ipython3",
   "version": "3.6.1"
  }
 },
 "nbformat": 4,
 "nbformat_minor": 2
}
